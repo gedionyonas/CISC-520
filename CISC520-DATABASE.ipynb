{
 "cells": [
  {
   "cell_type": "code",
   "execution_count": 1,
   "metadata": {},
   "outputs": [],
   "source": [
    "import psycopg2"
   ]
  },
  {
   "cell_type": "code",
   "execution_count": 2,
   "metadata": {},
   "outputs": [],
   "source": [
    "conn=psycopg2.connect(database=\"cisc520\",host=\"localhost\",password=\"password\",user=\"postgres\")"
   ]
  },
  {
   "cell_type": "code",
   "execution_count": 3,
   "metadata": {},
   "outputs": [],
   "source": [
    "conn.autocommit=True"
   ]
  },
  {
   "cell_type": "code",
   "execution_count": 4,
   "metadata": {},
   "outputs": [],
   "source": [
    "cursor=conn.cursor()"
   ]
  },
  {
   "cell_type": "code",
   "execution_count": 5,
   "metadata": {},
   "outputs": [],
   "source": [
    "sql='''DROP table IF EXISTS main'''"
   ]
  },
  {
   "cell_type": "code",
   "execution_count": 6,
   "metadata": {},
   "outputs": [],
   "source": [
    "cursor.execute(sql)"
   ]
  },
  {
   "cell_type": "code",
   "execution_count": 7,
   "metadata": {},
   "outputs": [],
   "source": [
    "sql='''CREATE TABLE MAIN(\n",
    "ACCIDENT_DATE DATE,\n",
    "ACCIDENT_TIME time,\n",
    "BOROUGH CHAR(20),\n",
    "ZIP_CODE CHAR(5),\n",
    "LATITUDE float,\n",
    "LONGITUDE float,\n",
    "LOCATION CHAR(100),\n",
    "ON_STREET_NAME CHAR(50),\n",
    "CROSS_STREET_NAME CHAR(50),\n",
    "OFF_STREET_NAME CHAR(50),\n",
    "NUMBER_OF_PERSONS_INJURED INT,\n",
    "NUMBER_OF_PERSONS_KILLED INT,\n",
    "NUMBER_OF_PEDESTRIANS_INJURED INT,\n",
    "NUMBER_OF_PEDESTRIANS_KILLED INT,\n",
    "NUMBER_OF_CYCLIST_INJURED INT,\n",
    "NUMBER_OF_CYCLIST_KILLED INT,\n",
    "NUMBER_OF_MOTORIST_INJURED INT,\n",
    "NUMBER_OF_MOTORIST_KILLED INT,\n",
    "CONTRIBUTING_FACTOR_VEHICLE_1 CHAR(100),\n",
    "CONTRIBUTING_FACTOR_VEHICLE_2 CHAR(100),\n",
    "CONTRIBUTING_FACTOR_VEHICLE_3 CHAR(100),\n",
    "CONTRIBUTING_FACTOR_VEHICLE_4 CHAR(100),\n",
    "CONTRIBUTING_FACTOR_VEHICLE_5 CHAR(100),\n",
    "COLLISION_ID CHAR(7),\n",
    "VEHICLE_TYPE_CODE_1 CHAR(50),\n",
    "VEHICLE_TYPE_CODE_2 CHAR(50),\n",
    "VEHICLE_TYPE_CODE_3 CHAR(50),\n",
    "VEHICLE_TYPE_CODE_4 CHAR(50),\n",
    "VEHICLE_TYPE_CODE_5 CHAR(50)\n",
    "\n",
    ")'''\n",
    "cursor.execute(sql)"
   ]
  },
  {
   "cell_type": "code",
   "execution_count": 8,
   "metadata": {},
   "outputs": [],
   "source": [
    "sql='''COPY main FROM 'C:/Users/public/nypd-motor-vehicle-collisions.csv' DELIMITER ',' CSV HEADER;'''\n",
    "cursor.execute(sql)"
   ]
  },
  {
   "cell_type": "code",
   "execution_count": 9,
   "metadata": {},
   "outputs": [],
   "source": [
    "sql = '''SELECT count(*) FROM main'''\n",
    "cursor.execute(sql)"
   ]
  },
  {
   "cell_type": "code",
   "execution_count": 10,
   "metadata": {},
   "outputs": [
    {
     "name": "stdout",
     "output_type": "stream",
     "text": [
      "(1612178,)\n"
     ]
    }
   ],
   "source": [
    "for i in cursor.fetchall():\n",
    "    print(i)"
   ]
  },
  {
   "cell_type": "code",
   "execution_count": null,
   "metadata": {},
   "outputs": [],
   "source": []
  },
  {
   "cell_type": "code",
   "execution_count": null,
   "metadata": {},
   "outputs": [],
   "source": []
  },
  {
   "cell_type": "code",
   "execution_count": null,
   "metadata": {},
   "outputs": [],
   "source": []
  }
 ],
 "metadata": {
  "kernelspec": {
   "display_name": "Python 3",
   "language": "python",
   "name": "python3"
  },
  "language_info": {
   "codemirror_mode": {
    "name": "ipython",
    "version": 3
   },
   "file_extension": ".py",
   "mimetype": "text/x-python",
   "name": "python",
   "nbconvert_exporter": "python",
   "pygments_lexer": "ipython3",
   "version": "3.8.3"
  }
 },
 "nbformat": 4,
 "nbformat_minor": 4
}
